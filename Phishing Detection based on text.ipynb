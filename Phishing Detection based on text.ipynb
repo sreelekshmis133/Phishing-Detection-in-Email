{
 "cells": [
  {
   "cell_type": "code",
   "execution_count": 1,
   "metadata": {},
   "outputs": [],
   "source": [
    "import pandas as pd\n",
    "import string\n",
    "import email\n",
    "import nltk\n",
    "import os\n",
    "import pickle\n",
    "import re\n",
    "from nltk.tokenize import RegexpTokenizer\n",
    "#import sklearn.cross_validation as skcv\n",
    "import warnings\n",
    "warnings.filterwarnings('ignore')\n",
    "import sklearn.feature_extraction.text as skft\n",
    "from sklearn.ensemble import RandomForestClassifier\n",
    "import sklearn.metrics as skmetrics\n",
    "import sklearn.pipeline as skpipe\n",
    "import sklearn.decomposition as skd\n",
    "import sklearn.naive_bayes as sknb\n",
    "from nltk.corpus import stopwords\n",
    "import matplotlib.pyplot as plt\n",
    "import wordcloud\n",
    "from sklearn.model_selection import cross_val_score, cross_val_predict\n",
    "#from sklearn.model_selection import cross_validate\n",
    "from sklearn.model_selection import KFold\n",
    "from sklearn.model_selection import train_test_split, GridSearchCV\n",
    "from sklearn.linear_model import SGDClassifier\n",
    "import numpy as np\n",
    "\n",
    "%matplotlib inline\n",
    "\n",
    "\n",
    "#import email_read_util"
   ]
  },
  {
   "cell_type": "code",
   "execution_count": 2,
   "metadata": {},
   "outputs": [],
   "source": [
    "\n",
    "def create_phish_df(my_dir):\n",
    "    titles = []\n",
    "    contents = []\n",
    "    labels = []\n",
    "\n",
    "    for f in os.listdir(os.path.join('phish',my_dir)):\n",
    "            with open(os.path.join('phish', my_dir, f), 'r') as reader:\n",
    "                try:\n",
    "                    c = reader.read()\n",
    "                except:\n",
    "                    continue\n",
    "                contents.append(c)\n",
    "                titles.append(f)\n",
    "                labels.append('phish')\n",
    "\n",
    "    df = pd.DataFrame({'title': titles, 'content': contents, 'label': 'phish'},\n",
    "                        columns = ['label', 'title', 'content'])\n",
    "    return df"
   ]
  },
  {
   "cell_type": "code",
   "execution_count": 3,
   "metadata": {},
   "outputs": [],
   "source": [
    "phish_email_list = [r\"C:\\Users\\Sreelekshmi\\Downloads\\Phishing-Detection-master\\Phishing-Detection-master\\phish\\20051114\", r\"C:\\Users\\Sreelekshmi\\Downloads\\Phishing-Detection-master\\Phishing-Detection-master\\phish\\phishing0\", r\"C:\\Users\\Sreelekshmi\\Downloads\\Phishing-Detection-master\\Phishing-Detection-master\\phish\\phishing1\", r\"C:\\Users\\Sreelekshmi\\Downloads\\Phishing-Detection-master\\Phishing-Detection-master\\phish\\phishing2\", r\"C:\\Users\\Sreelekshmi\\Downloads\\Phishing-Detection-master\\Phishing-Detection-master\\phish\\phishing3\"]\n"
   ]
  },
  {
   "cell_type": "code",
   "execution_count": 4,
   "metadata": {},
   "outputs": [],
   "source": [
    "phish_lst = []\n",
    "for phish_folder in phish_email_list:\n",
    "    phish_lst.append(create_phish_df(phish_folder))"
   ]
  },
  {
   "cell_type": "code",
   "execution_count": 5,
   "metadata": {},
   "outputs": [
    {
     "data": {
      "text/html": [
       "<div>\n",
       "<style scoped>\n",
       "    .dataframe tbody tr th:only-of-type {\n",
       "        vertical-align: middle;\n",
       "    }\n",
       "\n",
       "    .dataframe tbody tr th {\n",
       "        vertical-align: top;\n",
       "    }\n",
       "\n",
       "    .dataframe thead th {\n",
       "        text-align: right;\n",
       "    }\n",
       "</style>\n",
       "<table border=\"1\" class=\"dataframe\">\n",
       "  <thead>\n",
       "    <tr style=\"text-align: right;\">\n",
       "      <th></th>\n",
       "      <th>label</th>\n",
       "      <th>title</th>\n",
       "      <th>content</th>\n",
       "    </tr>\n",
       "  </thead>\n",
       "  <tbody>\n",
       "    <tr>\n",
       "      <td>0</td>\n",
       "      <td>phish</td>\n",
       "      <td>0_False.txt</td>\n",
       "      <td>Subject: TKO Notice: ***Urgent Safeharbor Depa...</td>\n",
       "    </tr>\n",
       "    <tr>\n",
       "      <td>1</td>\n",
       "      <td>phish</td>\n",
       "      <td>100_False.txt</td>\n",
       "      <td>Dear eBay Member:\\n\\n                         ...</td>\n",
       "    </tr>\n",
       "    <tr>\n",
       "      <td>2</td>\n",
       "      <td>phish</td>\n",
       "      <td>101_False.txt</td>\n",
       "      <td>Subject: Account Security Measures\\n \\nSection...</td>\n",
       "    </tr>\n",
       "    <tr>\n",
       "      <td>3</td>\n",
       "      <td>phish</td>\n",
       "      <td>102_False.txt</td>\n",
       "      <td>Subject: =\\nISO-8859-1\\nb\\nQmFuayBTZWN1cml0eSB...</td>\n",
       "    </tr>\n",
       "    <tr>\n",
       "      <td>4</td>\n",
       "      <td>phish</td>\n",
       "      <td>103_False.txt</td>\n",
       "      <td>Subject: SouthTrust Bank: Please Validate Your...</td>\n",
       "    </tr>\n",
       "  </tbody>\n",
       "</table>\n",
       "</div>"
      ],
      "text/plain": [
       "   label          title                                            content\n",
       "0  phish    0_False.txt  Subject: TKO Notice: ***Urgent Safeharbor Depa...\n",
       "1  phish  100_False.txt  Dear eBay Member:\\n\\n                         ...\n",
       "2  phish  101_False.txt  Subject: Account Security Measures\\n \\nSection...\n",
       "3  phish  102_False.txt  Subject: =\\nISO-8859-1\\nb\\nQmFuayBTZWN1cml0eSB...\n",
       "4  phish  103_False.txt  Subject: SouthTrust Bank: Please Validate Your..."
      ]
     },
     "execution_count": 5,
     "metadata": {},
     "output_type": "execute_result"
    }
   ],
   "source": [
    "df_phish = pd.concat(phish_lst)\n",
    "df_phish = df_phish[:5000]\n",
    "df_phish.head()"
   ]
  },
  {
   "cell_type": "code",
   "execution_count": 7,
   "metadata": {},
   "outputs": [
    {
     "data": {
      "text/plain": [
       "(4980, 3)"
      ]
     },
     "execution_count": 7,
     "metadata": {},
     "output_type": "execute_result"
    }
   ],
   "source": [
    "df_phish.shape\n"
   ]
  },
  {
   "cell_type": "code",
   "execution_count": 8,
   "metadata": {},
   "outputs": [],
   "source": [
    "ham_email_list = [r\"C:\\Users\\Sreelekshmi\\Downloads\\Phishing-Detection-master\\Phishing-Detection-master\\enron3\", r\"C:\\Users\\Sreelekshmi\\Downloads\\Phishing-Detection-master\\Phishing-Detection-master\\enron4\", r\"C:\\Users\\Sreelekshmi\\Downloads\\Phishing-Detection-master\\Phishing-Detection-master\\enron5\", r\"C:\\Users\\Sreelekshmi\\Downloads\\Phishing-Detection-master\\Phishing-Detection-master\\enron6\"]\n"
   ]
  },
  {
   "cell_type": "code",
   "execution_count": 9,
   "metadata": {},
   "outputs": [],
   "source": [
    "def create_ham_df(my_dir):\n",
    "    titles = []\n",
    "    contents = []\n",
    "    labels = []\n",
    "\n",
    "    for f in os.listdir(os.path.join(my_dir,'ham')):\n",
    "            with open(os.path.join(my_dir, 'ham', f), 'r') as reader:\n",
    "                try:\n",
    "                    c = reader.read()\n",
    "                except:\n",
    "                    continue\n",
    "                contents.append(c)\n",
    "                titles.append(f)\n",
    "                labels.append('ham')\n",
    "\n",
    "    df = pd.DataFrame({'title': titles, 'content': contents, 'label': 'ham'},\n",
    "                        columns = ['label', 'title', 'content'])\n",
    "    return df"
   ]
  },
  {
   "cell_type": "code",
   "execution_count": 10,
   "metadata": {},
   "outputs": [],
   "source": [
    "ham_list = []\n",
    "for ham in ham_email_list:\n",
    "    ham_list.append(create_ham_df(ham))"
   ]
  },
  {
   "cell_type": "code",
   "execution_count": 11,
   "metadata": {},
   "outputs": [],
   "source": [
    "df_ham = pd.concat(ham_list)\n",
    "df_ham = df_ham[:5000]"
   ]
  },
  {
   "cell_type": "code",
   "execution_count": 13,
   "metadata": {},
   "outputs": [
    {
     "data": {
      "text/html": [
       "<div>\n",
       "<style scoped>\n",
       "    .dataframe tbody tr th:only-of-type {\n",
       "        vertical-align: middle;\n",
       "    }\n",
       "\n",
       "    .dataframe tbody tr th {\n",
       "        vertical-align: top;\n",
       "    }\n",
       "\n",
       "    .dataframe thead th {\n",
       "        text-align: right;\n",
       "    }\n",
       "</style>\n",
       "<table border=\"1\" class=\"dataframe\">\n",
       "  <thead>\n",
       "    <tr style=\"text-align: right;\">\n",
       "      <th></th>\n",
       "      <th>label</th>\n",
       "      <th>title</th>\n",
       "      <th>content</th>\n",
       "    </tr>\n",
       "  </thead>\n",
       "  <tbody>\n",
       "    <tr>\n",
       "      <td>0</td>\n",
       "      <td>ham</td>\n",
       "      <td>0001.2001-02-07.kitchen.ham.txt</td>\n",
       "      <td>Subject: key hr issues going forward\\na ) year...</td>\n",
       "    </tr>\n",
       "    <tr>\n",
       "      <td>1</td>\n",
       "      <td>ham</td>\n",
       "      <td>0003.2001-02-08.kitchen.ham.txt</td>\n",
       "      <td>Subject: re : key hr issues going forward\\nall...</td>\n",
       "    </tr>\n",
       "    <tr>\n",
       "      <td>2</td>\n",
       "      <td>ham</td>\n",
       "      <td>0005.2001-02-08.kitchen.ham.txt</td>\n",
       "      <td>Subject: epmi files protest of entergy transco...</td>\n",
       "    </tr>\n",
       "    <tr>\n",
       "      <td>3</td>\n",
       "      <td>ham</td>\n",
       "      <td>0006.2001-02-08.kitchen.ham.txt</td>\n",
       "      <td>Subject: california power 2 / 8\\nplease contac...</td>\n",
       "    </tr>\n",
       "    <tr>\n",
       "      <td>4</td>\n",
       "      <td>ham</td>\n",
       "      <td>0007.2001-02-09.kitchen.ham.txt</td>\n",
       "      <td>Subject: california power 2 / 9\\nthe following...</td>\n",
       "    </tr>\n",
       "  </tbody>\n",
       "</table>\n",
       "</div>"
      ],
      "text/plain": [
       "  label                            title  \\\n",
       "0   ham  0001.2001-02-07.kitchen.ham.txt   \n",
       "1   ham  0003.2001-02-08.kitchen.ham.txt   \n",
       "2   ham  0005.2001-02-08.kitchen.ham.txt   \n",
       "3   ham  0006.2001-02-08.kitchen.ham.txt   \n",
       "4   ham  0007.2001-02-09.kitchen.ham.txt   \n",
       "\n",
       "                                             content  \n",
       "0  Subject: key hr issues going forward\\na ) year...  \n",
       "1  Subject: re : key hr issues going forward\\nall...  \n",
       "2  Subject: epmi files protest of entergy transco...  \n",
       "3  Subject: california power 2 / 8\\nplease contac...  \n",
       "4  Subject: california power 2 / 9\\nthe following...  "
      ]
     },
     "execution_count": 13,
     "metadata": {},
     "output_type": "execute_result"
    }
   ],
   "source": [
    "df_ham.head()\n"
   ]
  },
  {
   "cell_type": "code",
   "execution_count": 14,
   "metadata": {},
   "outputs": [
    {
     "data": {
      "text/plain": [
       "(5000, 3)"
      ]
     },
     "execution_count": 14,
     "metadata": {},
     "output_type": "execute_result"
    }
   ],
   "source": [
    "df_ham.shape\n"
   ]
  },
  {
   "cell_type": "code",
   "execution_count": 15,
   "metadata": {},
   "outputs": [
    {
     "data": {
      "text/html": [
       "<div>\n",
       "<style scoped>\n",
       "    .dataframe tbody tr th:only-of-type {\n",
       "        vertical-align: middle;\n",
       "    }\n",
       "\n",
       "    .dataframe tbody tr th {\n",
       "        vertical-align: top;\n",
       "    }\n",
       "\n",
       "    .dataframe thead th {\n",
       "        text-align: right;\n",
       "    }\n",
       "</style>\n",
       "<table border=\"1\" class=\"dataframe\">\n",
       "  <thead>\n",
       "    <tr style=\"text-align: right;\">\n",
       "      <th></th>\n",
       "      <th>label</th>\n",
       "      <th>title</th>\n",
       "      <th>content</th>\n",
       "    </tr>\n",
       "  </thead>\n",
       "  <tbody>\n",
       "    <tr>\n",
       "      <td>866</td>\n",
       "      <td>ham</td>\n",
       "      <td>3468.2001-12-22.williams.ham.txt</td>\n",
       "      <td>Subject: start date : 12 / 22 / 01 ; hourahead...</td>\n",
       "    </tr>\n",
       "    <tr>\n",
       "      <td>314</td>\n",
       "      <td>phish</td>\n",
       "      <td>383_False.txt</td>\n",
       "      <td>Subject: PayPal Security Measures Notification...</td>\n",
       "    </tr>\n",
       "    <tr>\n",
       "      <td>946</td>\n",
       "      <td>ham</td>\n",
       "      <td>3793.2001-12-28.williams.ham.txt</td>\n",
       "      <td>Subject: start date : 12 / 28 / 01 ; hourahead...</td>\n",
       "    </tr>\n",
       "    <tr>\n",
       "      <td>980</td>\n",
       "      <td>ham</td>\n",
       "      <td>1346.2001-06-27.kitchen.ham.txt</td>\n",
       "      <td>Subject: fw : redline\\ntravis c . mccullough\\n...</td>\n",
       "    </tr>\n",
       "    <tr>\n",
       "      <td>101</td>\n",
       "      <td>ham</td>\n",
       "      <td>0422.2001-06-07.williams.ham.txt</td>\n",
       "      <td>Subject: supplementals for 6 / 8 - 6 / 9\\ngrou...</td>\n",
       "    </tr>\n",
       "    <tr>\n",
       "      <td>336</td>\n",
       "      <td>phish</td>\n",
       "      <td>402_False.txt</td>\n",
       "      <td>Subject: PayPal Security Measures Notification...</td>\n",
       "    </tr>\n",
       "    <tr>\n",
       "      <td>250</td>\n",
       "      <td>ham</td>\n",
       "      <td>1037.2001-07-05.williams.ham.txt</td>\n",
       "      <td>Subject: total transfer capabilities\\nattached...</td>\n",
       "    </tr>\n",
       "    <tr>\n",
       "      <td>2166</td>\n",
       "      <td>ham</td>\n",
       "      <td>2984.2001-10-08.kitchen.ham.txt</td>\n",
       "      <td>Subject: re : any changes should come from bob...</td>\n",
       "    </tr>\n",
       "    <tr>\n",
       "      <td>2771</td>\n",
       "      <td>ham</td>\n",
       "      <td>3799.2001-11-06.kitchen.ham.txt</td>\n",
       "      <td>Subject: enron mentions\\nuk : u . s . enron sh...</td>\n",
       "    </tr>\n",
       "    <tr>\n",
       "      <td>1891</td>\n",
       "      <td>ham</td>\n",
       "      <td>2607.2001-09-20.kitchen.ham.txt</td>\n",
       "      <td>Subject: re :\\nlouise ,\\nthe draft was present...</td>\n",
       "    </tr>\n",
       "  </tbody>\n",
       "</table>\n",
       "</div>"
      ],
      "text/plain": [
       "      label                             title  \\\n",
       "866     ham  3468.2001-12-22.williams.ham.txt   \n",
       "314   phish                     383_False.txt   \n",
       "946     ham  3793.2001-12-28.williams.ham.txt   \n",
       "980     ham   1346.2001-06-27.kitchen.ham.txt   \n",
       "101     ham  0422.2001-06-07.williams.ham.txt   \n",
       "336   phish                     402_False.txt   \n",
       "250     ham  1037.2001-07-05.williams.ham.txt   \n",
       "2166    ham   2984.2001-10-08.kitchen.ham.txt   \n",
       "2771    ham   3799.2001-11-06.kitchen.ham.txt   \n",
       "1891    ham   2607.2001-09-20.kitchen.ham.txt   \n",
       "\n",
       "                                                content  \n",
       "866   Subject: start date : 12 / 22 / 01 ; hourahead...  \n",
       "314   Subject: PayPal Security Measures Notification...  \n",
       "946   Subject: start date : 12 / 28 / 01 ; hourahead...  \n",
       "980   Subject: fw : redline\\ntravis c . mccullough\\n...  \n",
       "101   Subject: supplementals for 6 / 8 - 6 / 9\\ngrou...  \n",
       "336   Subject: PayPal Security Measures Notification...  \n",
       "250   Subject: total transfer capabilities\\nattached...  \n",
       "2166  Subject: re : any changes should come from bob...  \n",
       "2771  Subject: enron mentions\\nuk : u . s . enron sh...  \n",
       "1891  Subject: re :\\nlouise ,\\nthe draft was present...  "
      ]
     },
     "execution_count": 15,
     "metadata": {},
     "output_type": "execute_result"
    }
   ],
   "source": [
    "df_emails = pd.concat([df_ham, df_phish])\n",
    "df_emails.sample(10)"
   ]
  },
  {
   "cell_type": "code",
   "execution_count": 16,
   "metadata": {},
   "outputs": [],
   "source": [
    "def contains_phish_link(df):\n",
    "    #match = re.match(r'True', str(df.title))\n",
    "    if(re.match(r'.*True.txt$', str(df.title))):\n",
    "        return True\n",
    "    return False"
   ]
  },
  {
   "cell_type": "code",
   "execution_count": 17,
   "metadata": {},
   "outputs": [],
   "source": [
    "df_emails['malic'] = df_emails.apply(contains_phish_link, axis = 1)\n"
   ]
  },
  {
   "cell_type": "code",
   "execution_count": 18,
   "metadata": {},
   "outputs": [
    {
     "data": {
      "text/html": [
       "<div>\n",
       "<style scoped>\n",
       "    .dataframe tbody tr th:only-of-type {\n",
       "        vertical-align: middle;\n",
       "    }\n",
       "\n",
       "    .dataframe tbody tr th {\n",
       "        vertical-align: top;\n",
       "    }\n",
       "\n",
       "    .dataframe thead th {\n",
       "        text-align: right;\n",
       "    }\n",
       "</style>\n",
       "<table border=\"1\" class=\"dataframe\">\n",
       "  <thead>\n",
       "    <tr style=\"text-align: right;\">\n",
       "      <th></th>\n",
       "      <th>label</th>\n",
       "      <th>title</th>\n",
       "      <th>content</th>\n",
       "      <th>malic</th>\n",
       "    </tr>\n",
       "  </thead>\n",
       "  <tbody>\n",
       "    <tr>\n",
       "      <td>0</td>\n",
       "      <td>ham</td>\n",
       "      <td>0001.2001-02-07.kitchen.ham.txt</td>\n",
       "      <td>Subject: key hr issues going forward\\na ) year...</td>\n",
       "      <td>False</td>\n",
       "    </tr>\n",
       "    <tr>\n",
       "      <td>1</td>\n",
       "      <td>ham</td>\n",
       "      <td>0003.2001-02-08.kitchen.ham.txt</td>\n",
       "      <td>Subject: re : key hr issues going forward\\nall...</td>\n",
       "      <td>False</td>\n",
       "    </tr>\n",
       "    <tr>\n",
       "      <td>2</td>\n",
       "      <td>ham</td>\n",
       "      <td>0005.2001-02-08.kitchen.ham.txt</td>\n",
       "      <td>Subject: epmi files protest of entergy transco...</td>\n",
       "      <td>False</td>\n",
       "    </tr>\n",
       "    <tr>\n",
       "      <td>3</td>\n",
       "      <td>ham</td>\n",
       "      <td>0006.2001-02-08.kitchen.ham.txt</td>\n",
       "      <td>Subject: california power 2 / 8\\nplease contac...</td>\n",
       "      <td>False</td>\n",
       "    </tr>\n",
       "    <tr>\n",
       "      <td>4</td>\n",
       "      <td>ham</td>\n",
       "      <td>0007.2001-02-09.kitchen.ham.txt</td>\n",
       "      <td>Subject: california power 2 / 9\\nthe following...</td>\n",
       "      <td>False</td>\n",
       "    </tr>\n",
       "  </tbody>\n",
       "</table>\n",
       "</div>"
      ],
      "text/plain": [
       "  label                            title  \\\n",
       "0   ham  0001.2001-02-07.kitchen.ham.txt   \n",
       "1   ham  0003.2001-02-08.kitchen.ham.txt   \n",
       "2   ham  0005.2001-02-08.kitchen.ham.txt   \n",
       "3   ham  0006.2001-02-08.kitchen.ham.txt   \n",
       "4   ham  0007.2001-02-09.kitchen.ham.txt   \n",
       "\n",
       "                                             content  malic  \n",
       "0  Subject: key hr issues going forward\\na ) year...  False  \n",
       "1  Subject: re : key hr issues going forward\\nall...  False  \n",
       "2  Subject: epmi files protest of entergy transco...  False  \n",
       "3  Subject: california power 2 / 8\\nplease contac...  False  \n",
       "4  Subject: california power 2 / 9\\nthe following...  False  "
      ]
     },
     "execution_count": 18,
     "metadata": {},
     "output_type": "execute_result"
    }
   ],
   "source": [
    "df_emails.head()\n"
   ]
  },
  {
   "cell_type": "code",
   "execution_count": 19,
   "metadata": {},
   "outputs": [
    {
     "data": {
      "text/plain": [
       "317"
      ]
     },
     "execution_count": 19,
     "metadata": {},
     "output_type": "execute_result"
    }
   ],
   "source": [
    "len(df_emails[df_emails['malic'] == True])\n"
   ]
  },
  {
   "cell_type": "code",
   "execution_count": 20,
   "metadata": {},
   "outputs": [],
   "source": [
    "df_emails_train, df_emails_test = train_test_split(df_emails, test_size=0.3, random_state=0)\n"
   ]
  },
  {
   "cell_type": "code",
   "execution_count": 21,
   "metadata": {},
   "outputs": [],
   "source": [
    "#frequency distribution\n",
    "text_all = '\\n'.join(df_emails_train.content).lower()\n",
    "stop_words = set(stopwords.words('english'))\n",
    "tokenizer = RegexpTokenizer(r'\\w+')#nltk.tokenize.wordpunct_tokenize(text_all)\n",
    "tokens_all = tokenizer.tokenize(text_all)\n",
    "tokens_all = [word for word in tokens_all if word not in stop_words and word != 'font' and word != 'subject']#word not in string.punctuation"
   ]
  },
  {
   "cell_type": "code",
   "execution_count": 22,
   "metadata": {},
   "outputs": [],
   "source": [
    "fd = nltk.probability.FreqDist(tokens_all)\n"
   ]
  },
  {
   "cell_type": "code",
   "execution_count": 23,
   "metadata": {},
   "outputs": [],
   "source": [
    "#fd plot for phishing emails\n"
   ]
  },
  {
   "cell_type": "code",
   "execution_count": 24,
   "metadata": {},
   "outputs": [],
   "source": [
    "phish_text_all = '\\n'.join(df_phish.content).lower()\n",
    "phish_tokens_all = tokenizer.tokenize(phish_text_all)\n",
    "phish_tokens_all = [word for word in phish_tokens_all if word not in stop_words and word != 'font' and word != 'subject']"
   ]
  },
  {
   "cell_type": "code",
   "execution_count": 25,
   "metadata": {},
   "outputs": [
    {
     "data": {
      "image/png": "[encoded data removed]",
      "text/plain": [
       "<Figure size 432x288 with 1 Axes>"
      ]
     },
     "metadata": {
      "needs_background": "light"
     },
     "output_type": "display_data"
    },
    {
     "data": {
      "text/plain": [
       "<matplotlib.axes._subplots.AxesSubplot at 0x213f3831d48>"
      ]
     },
     "execution_count": 25,
     "metadata": {},
     "output_type": "execute_result"
    }
   ],
   "source": [
    "fd_phish = nltk.probability.FreqDist(phish_tokens_all)\n",
    "fd_phish.plot(20)"
   ]
  },
  {
   "cell_type": "code",
   "execution_count": 26,
   "metadata": {},
   "outputs": [],
   "source": [
    "#Create wordcloud\n",
    "# wc = wordcloud.WordCloud(max_words=1000, stopwords=stop_words,\n",
    "#                          margin=10,random_state=2).generate(' '.join(phish_tokens_all))\n",
    "\n",
    "# fig,ax = plt.subplots(figsize=(12,8))\n",
    "# ax.imshow(wc) #Display an image on the axes."
   ]
  },
  {
   "cell_type": "code",
   "execution_count": 27,
   "metadata": {},
   "outputs": [
    {
     "name": "stdout",
     "output_type": "stream",
     "text": [
      "training set tokens 1599353\n"
     ]
    }
   ],
   "source": [
    "print('training set tokens', len(tokens_all))\n"
   ]
  },
  {
   "cell_type": "code",
   "execution_count": 28,
   "metadata": {},
   "outputs": [
    {
     "name": "stdout",
     "output_type": "stream",
     "text": [
      "unique training set tokens 69115\n"
     ]
    }
   ],
   "source": [
    "print ('unique training set tokens', len(set(tokens_all)))\n"
   ]
  },
  {
   "cell_type": "code",
   "execution_count": 29,
   "metadata": {},
   "outputs": [],
   "source": [
    "def netcraft_algo(df):\n",
    "    if(df['malic'] == True):\n",
    "        return 'phish'\n",
    "    else:\n",
    "        pass"
   ]
  },
  {
   "cell_type": "code",
   "execution_count": 30,
   "metadata": {},
   "outputs": [],
   "source": [
    "def netcraft_cv(df, model):\n",
    "    precision_scores_weighted = []\n",
    "    precision_scores_micro = []\n",
    "    precision_scores_macro = []\n",
    "    \n",
    "    precision_scores = []\n",
    "    recall_scores = []\n",
    "    \n",
    "    f1_scores_macro = []\n",
    "    f1_scores_micro = []\n",
    "    f1_scores_weighted = []\n",
    "    \n",
    "    recall_scores_macro = []\n",
    "    recall_scores_micro = []\n",
    "    recall_scores_weighted = []\n",
    "    \n",
    "    \n",
    "    accuracy_scores = []\n",
    "    kf = KFold(n_splits = 5, shuffle = True, random_state = 1)\n",
    "    fold = 0\n",
    "    for train_ind, test_ind in kf.split(df):\n",
    "\n",
    "        df_emails_train = df.iloc[train_ind]\n",
    "        df_emails_test =  df.iloc[test_ind]\n",
    "        \n",
    "        model.fit(df_emails_train.content, df_emails_train.label)\n",
    "        model_test_predicted = model.predict(df_emails_test.content)\n",
    "\n",
    "        df_emails_test['predicted_label'] = df_emails_test.apply(netcraft_algo, axis = 1)\n",
    "        netcraft_test_predicted = [x for x in df_emails_test['predicted_label']]\n",
    "        test_predicted = []\n",
    "        for a, b in zip(netcraft_test_predicted, model_test_predicted):\n",
    "            if((a == 'phish') and (b != 'phish')):\n",
    "                test_predicted.append(a)\n",
    "            else:\n",
    "                test_predicted.append(b)\n",
    "        print('fold', fold)\n",
    "        print (skmetrics.classification_report(df_emails_test.label, test_predicted))\n",
    "        accuracy_scores.append(skmetrics.accuracy_score(df_emails_test.label, test_predicted))\n",
    "        \n",
    "        f1_scores_macro.append(skmetrics.f1_score(df_emails_test.label, test_predicted, average = 'macro'))\n",
    "        f1_scores_micro.append(skmetrics.f1_score(df_emails_test.label, test_predicted, average = 'micro'))\n",
    "        f1_scores_weighted.append(skmetrics.f1_score(df_emails_test.label, test_predicted, average = 'weighted'))\n",
    "        \n",
    "        precision_scores.append(skmetrics.precision_score(df_emails_test.label, test_predicted, pos_label = 'phish'))\n",
    "        \n",
    "        precision_scores_macro.append(skmetrics.precision_score(df_emails_test.label, test_predicted, average = 'macro'))\n",
    "        precision_scores_micro.append(skmetrics.precision_score(df_emails_test.label, test_predicted, average = 'micro'))\n",
    "        precision_scores_weighted.append(skmetrics.precision_score(df_emails_test.label, test_predicted, average = 'weighted'))\n",
    "        \n",
    "        recall_scores.append(skmetrics.recall_score(df_emails_test.label, test_predicted, pos_label = 'phish'))\n",
    "        \n",
    "        recall_scores_macro.append(skmetrics.recall_score(df_emails_test.label, test_predicted, average = 'macro'))\n",
    "        recall_scores_micro.append(skmetrics.recall_score(df_emails_test.label, test_predicted, average = 'micro'))\n",
    "        recall_scores_weighted.append(skmetrics.recall_score(df_emails_test.label, test_predicted, average = 'weighted'))\n",
    "        \n",
    "        \n",
    "        fold += 1\n",
    "    \n",
    "    print('F1 Micro:', np.mean(f1_scores_micro))\n",
    "    print('F1 Macro:', np.mean(f1_scores_macro))\n",
    "    print('F1 Weighted:', np.mean(f1_scores_weighted))\n",
    "    print()\n",
    "    print('Precision Micro:', np.mean(precision_scores_micro))\n",
    "    print('Precision Macro:', np.mean(precision_scores_macro))\n",
    "    print('Preicision Weighted:', np.mean(precision_scores_weighted))\n",
    "    print()\n",
    "    print('Recall Micro:', np.mean(recall_scores_micro))\n",
    "    print('Recall Macro:', np.mean(recall_scores_macro))\n",
    "    print('Recall Weighted:', np.mean(recall_scores_weighted))\n",
    "    print()\n",
    "    print('avg accuracy:', round(np.mean(accuracy_scores), 2))\n",
    "    print('avg phish precision:', round(np.mean(precision_scores), 2))\n",
    "    print('avg phish recall:', round(np.mean(recall_scores), 2))"
   ]
  },
  {
   "cell_type": "code",
   "execution_count": 33,
   "metadata": {},
   "outputs": [],
   "source": [
    "pipeline = skpipe.Pipeline(\n",
    "    steps = [('vect', skft.CountVectorizer(max_df=0.7)),\n",
    "     ('tfidf', skft.TfidfTransformer()),\n",
    "     ('clf', sknb.MultinomialNB())])"
   ]
  },
  {
   "cell_type": "code",
   "execution_count": 34,
   "metadata": {},
   "outputs": [
    {
     "data": {
      "text/plain": [
       "Pipeline(memory=None,\n",
       "         steps=[('vect',\n",
       "                 CountVectorizer(analyzer='word', binary=False,\n",
       "                                 decode_error='strict',\n",
       "                                 dtype=<class 'numpy.int64'>, encoding='utf-8',\n",
       "                                 input='content', lowercase=True, max_df=0.7,\n",
       "                                 max_features=None, min_df=1,\n",
       "                                 ngram_range=(1, 1), preprocessor=None,\n",
       "                                 stop_words=None, strip_accents=None,\n",
       "                                 token_pattern='(?u)\\\\b\\\\w\\\\w+\\\\b',\n",
       "                                 tokenizer=None, vocabulary=None)),\n",
       "                ('tfidf',\n",
       "                 TfidfTransformer(norm='l2', smooth_idf=True,\n",
       "                                  sublinear_tf=False, use_idf=True)),\n",
       "                ('clf',\n",
       "                 MultinomialNB(alpha=1.0, class_prior=None, fit_prior=True))],\n",
       "         verbose=False)"
      ]
     },
     "execution_count": 34,
     "metadata": {},
     "output_type": "execute_result"
    }
   ],
   "source": [
    "df_emails_train, df_emails_test = train_test_split(df_emails, test_size=0.3, random_state=0)\n",
    "pipeline.fit(df_emails_train.content, df_emails_train.label)"
   ]
  },
  {
   "cell_type": "code",
   "execution_count": 35,
   "metadata": {},
   "outputs": [],
   "source": [
    "nb_test_predicted = pipeline.predict(df_emails_test.content)\n"
   ]
  },
  {
   "cell_type": "code",
   "execution_count": 36,
   "metadata": {},
   "outputs": [
    {
     "data": {
      "text/html": [
       "<div>\n",
       "<style scoped>\n",
       "    .dataframe tbody tr th:only-of-type {\n",
       "        vertical-align: middle;\n",
       "    }\n",
       "\n",
       "    .dataframe tbody tr th {\n",
       "        vertical-align: top;\n",
       "    }\n",
       "\n",
       "    .dataframe thead th {\n",
       "        text-align: right;\n",
       "    }\n",
       "</style>\n",
       "<table border=\"1\" class=\"dataframe\">\n",
       "  <thead>\n",
       "    <tr style=\"text-align: right;\">\n",
       "      <th></th>\n",
       "      <th>label</th>\n",
       "      <th>title</th>\n",
       "      <th>content</th>\n",
       "      <th>malic</th>\n",
       "    </tr>\n",
       "  </thead>\n",
       "  <tbody>\n",
       "    <tr>\n",
       "      <td>601</td>\n",
       "      <td>phish</td>\n",
       "      <td>262_False.txt</td>\n",
       "      <td>Subject: eBay Member: marylou2804 SectionTitle...</td>\n",
       "      <td>False</td>\n",
       "    </tr>\n",
       "    <tr>\n",
       "      <td>1840</td>\n",
       "      <td>phish</td>\n",
       "      <td>625_False.txt</td>\n",
       "      <td>Subject: customer notification: details confir...</td>\n",
       "      <td>False</td>\n",
       "    </tr>\n",
       "    <tr>\n",
       "      <td>356</td>\n",
       "      <td>phish</td>\n",
       "      <td>1328_False.txt</td>\n",
       "      <td>Subject: Notification of Limited Account Acces...</td>\n",
       "      <td>False</td>\n",
       "    </tr>\n",
       "    <tr>\n",
       "      <td>1861</td>\n",
       "      <td>ham</td>\n",
       "      <td>2568.2001-09-18.kitchen.ham.txt</td>\n",
       "      <td>Subject: gtv weekly project status report\\nple...</td>\n",
       "      <td>False</td>\n",
       "    </tr>\n",
       "    <tr>\n",
       "      <td>1509</td>\n",
       "      <td>ham</td>\n",
       "      <td>2080.2001-08-21.kitchen.ham.txt</td>\n",
       "      <td>Subject: thanks for the offsite\\nthank you for...</td>\n",
       "      <td>False</td>\n",
       "    </tr>\n",
       "  </tbody>\n",
       "</table>\n",
       "</div>"
      ],
      "text/plain": [
       "      label                            title  \\\n",
       "601   phish                    262_False.txt   \n",
       "1840  phish                    625_False.txt   \n",
       "356   phish                   1328_False.txt   \n",
       "1861    ham  2568.2001-09-18.kitchen.ham.txt   \n",
       "1509    ham  2080.2001-08-21.kitchen.ham.txt   \n",
       "\n",
       "                                                content  malic  \n",
       "601   Subject: eBay Member: marylou2804 SectionTitle...  False  \n",
       "1840  Subject: customer notification: details confir...  False  \n",
       "356   Subject: Notification of Limited Account Acces...  False  \n",
       "1861  Subject: gtv weekly project status report\\nple...  False  \n",
       "1509  Subject: thanks for the offsite\\nthank you for...  False  "
      ]
     },
     "execution_count": 36,
     "metadata": {},
     "output_type": "execute_result"
    }
   ],
   "source": [
    "df_emails_test.head()\n"
   ]
  },
  {
   "cell_type": "code",
   "execution_count": 37,
   "metadata": {},
   "outputs": [],
   "source": [
    "df_emails_test['predicted_label'] = df_emails_test.apply(netcraft_algo, axis = 1)\n"
   ]
  },
  {
   "cell_type": "code",
   "execution_count": 38,
   "metadata": {},
   "outputs": [
    {
     "data": {
      "text/html": [
       "<div>\n",
       "<style scoped>\n",
       "    .dataframe tbody tr th:only-of-type {\n",
       "        vertical-align: middle;\n",
       "    }\n",
       "\n",
       "    .dataframe tbody tr th {\n",
       "        vertical-align: top;\n",
       "    }\n",
       "\n",
       "    .dataframe thead th {\n",
       "        text-align: right;\n",
       "    }\n",
       "</style>\n",
       "<table border=\"1\" class=\"dataframe\">\n",
       "  <thead>\n",
       "    <tr style=\"text-align: right;\">\n",
       "      <th></th>\n",
       "      <th>label</th>\n",
       "      <th>title</th>\n",
       "      <th>content</th>\n",
       "      <th>malic</th>\n",
       "      <th>predicted_label</th>\n",
       "    </tr>\n",
       "  </thead>\n",
       "  <tbody>\n",
       "    <tr>\n",
       "      <td>601</td>\n",
       "      <td>phish</td>\n",
       "      <td>262_False.txt</td>\n",
       "      <td>Subject: eBay Member: marylou2804 SectionTitle...</td>\n",
       "      <td>False</td>\n",
       "      <td>None</td>\n",
       "    </tr>\n",
       "    <tr>\n",
       "      <td>1840</td>\n",
       "      <td>phish</td>\n",
       "      <td>625_False.txt</td>\n",
       "      <td>Subject: customer notification: details confir...</td>\n",
       "      <td>False</td>\n",
       "      <td>None</td>\n",
       "    </tr>\n",
       "    <tr>\n",
       "      <td>356</td>\n",
       "      <td>phish</td>\n",
       "      <td>1328_False.txt</td>\n",
       "      <td>Subject: Notification of Limited Account Acces...</td>\n",
       "      <td>False</td>\n",
       "      <td>None</td>\n",
       "    </tr>\n",
       "    <tr>\n",
       "      <td>1861</td>\n",
       "      <td>ham</td>\n",
       "      <td>2568.2001-09-18.kitchen.ham.txt</td>\n",
       "      <td>Subject: gtv weekly project status report\\nple...</td>\n",
       "      <td>False</td>\n",
       "      <td>None</td>\n",
       "    </tr>\n",
       "    <tr>\n",
       "      <td>1509</td>\n",
       "      <td>ham</td>\n",
       "      <td>2080.2001-08-21.kitchen.ham.txt</td>\n",
       "      <td>Subject: thanks for the offsite\\nthank you for...</td>\n",
       "      <td>False</td>\n",
       "      <td>None</td>\n",
       "    </tr>\n",
       "  </tbody>\n",
       "</table>\n",
       "</div>"
      ],
      "text/plain": [
       "      label                            title  \\\n",
       "601   phish                    262_False.txt   \n",
       "1840  phish                    625_False.txt   \n",
       "356   phish                   1328_False.txt   \n",
       "1861    ham  2568.2001-09-18.kitchen.ham.txt   \n",
       "1509    ham  2080.2001-08-21.kitchen.ham.txt   \n",
       "\n",
       "                                                content  malic predicted_label  \n",
       "601   Subject: eBay Member: marylou2804 SectionTitle...  False            None  \n",
       "1840  Subject: customer notification: details confir...  False            None  \n",
       "356   Subject: Notification of Limited Account Acces...  False            None  \n",
       "1861  Subject: gtv weekly project status report\\nple...  False            None  \n",
       "1509  Subject: thanks for the offsite\\nthank you for...  False            None  "
      ]
     },
     "execution_count": 38,
     "metadata": {},
     "output_type": "execute_result"
    }
   ],
   "source": [
    "df_emails_test.head()\n"
   ]
  },
  {
   "cell_type": "code",
   "execution_count": 39,
   "metadata": {},
   "outputs": [],
   "source": [
    "netcraft_test_predicted = [x for x in df_emails_test['predicted_label']]\n"
   ]
  },
  {
   "cell_type": "code",
   "execution_count": 40,
   "metadata": {},
   "outputs": [],
   "source": [
    "test_predicted = []\n",
    "for a, b in zip(netcraft_test_predicted, nb_test_predicted):\n",
    "    #print(a, b)\n",
    "    if((a == 'phish') and (b != 'phish')):\n",
    "        test_predicted.append(a)\n",
    "    else:\n",
    "        test_predicted.append(b)"
   ]
  },
  {
   "cell_type": "code",
   "execution_count": 41,
   "metadata": {},
   "outputs": [],
   "source": [
    "df_emails_test['predicted_label'] = test_predicted\n"
   ]
  },
  {
   "cell_type": "code",
   "execution_count": 42,
   "metadata": {},
   "outputs": [
    {
     "data": {
      "text/html": [
       "<div>\n",
       "<style scoped>\n",
       "    .dataframe tbody tr th:only-of-type {\n",
       "        vertical-align: middle;\n",
       "    }\n",
       "\n",
       "    .dataframe tbody tr th {\n",
       "        vertical-align: top;\n",
       "    }\n",
       "\n",
       "    .dataframe thead th {\n",
       "        text-align: right;\n",
       "    }\n",
       "</style>\n",
       "<table border=\"1\" class=\"dataframe\">\n",
       "  <thead>\n",
       "    <tr style=\"text-align: right;\">\n",
       "      <th></th>\n",
       "      <th>label</th>\n",
       "      <th>title</th>\n",
       "      <th>content</th>\n",
       "      <th>malic</th>\n",
       "      <th>predicted_label</th>\n",
       "    </tr>\n",
       "  </thead>\n",
       "  <tbody>\n",
       "    <tr>\n",
       "      <td>601</td>\n",
       "      <td>phish</td>\n",
       "      <td>262_False.txt</td>\n",
       "      <td>Subject: eBay Member: marylou2804 SectionTitle...</td>\n",
       "      <td>False</td>\n",
       "      <td>phish</td>\n",
       "    </tr>\n",
       "    <tr>\n",
       "      <td>1840</td>\n",
       "      <td>phish</td>\n",
       "      <td>625_False.txt</td>\n",
       "      <td>Subject: customer notification: details confir...</td>\n",
       "      <td>False</td>\n",
       "      <td>phish</td>\n",
       "    </tr>\n",
       "    <tr>\n",
       "      <td>356</td>\n",
       "      <td>phish</td>\n",
       "      <td>1328_False.txt</td>\n",
       "      <td>Subject: Notification of Limited Account Acces...</td>\n",
       "      <td>False</td>\n",
       "      <td>phish</td>\n",
       "    </tr>\n",
       "    <tr>\n",
       "      <td>1861</td>\n",
       "      <td>ham</td>\n",
       "      <td>2568.2001-09-18.kitchen.ham.txt</td>\n",
       "      <td>Subject: gtv weekly project status report\\nple...</td>\n",
       "      <td>False</td>\n",
       "      <td>ham</td>\n",
       "    </tr>\n",
       "    <tr>\n",
       "      <td>1509</td>\n",
       "      <td>ham</td>\n",
       "      <td>2080.2001-08-21.kitchen.ham.txt</td>\n",
       "      <td>Subject: thanks for the offsite\\nthank you for...</td>\n",
       "      <td>False</td>\n",
       "      <td>ham</td>\n",
       "    </tr>\n",
       "  </tbody>\n",
       "</table>\n",
       "</div>"
      ],
      "text/plain": [
       "      label                            title  \\\n",
       "601   phish                    262_False.txt   \n",
       "1840  phish                    625_False.txt   \n",
       "356   phish                   1328_False.txt   \n",
       "1861    ham  2568.2001-09-18.kitchen.ham.txt   \n",
       "1509    ham  2080.2001-08-21.kitchen.ham.txt   \n",
       "\n",
       "                                                content  malic predicted_label  \n",
       "601   Subject: eBay Member: marylou2804 SectionTitle...  False           phish  \n",
       "1840  Subject: customer notification: details confir...  False           phish  \n",
       "356   Subject: Notification of Limited Account Acces...  False           phish  \n",
       "1861  Subject: gtv weekly project status report\\nple...  False             ham  \n",
       "1509  Subject: thanks for the offsite\\nthank you for...  False             ham  "
      ]
     },
     "execution_count": 42,
     "metadata": {},
     "output_type": "execute_result"
    }
   ],
   "source": [
    "df_emails_test.head()\n"
   ]
  },
  {
   "cell_type": "code",
   "execution_count": 43,
   "metadata": {},
   "outputs": [
    {
     "name": "stdout",
     "output_type": "stream",
     "text": [
      "Accuracy: 0.9609218436873748\n"
     ]
    }
   ],
   "source": [
    "print ('Accuracy:', skmetrics.accuracy_score(df_emails_test.label, test_predicted))\n"
   ]
  },
  {
   "cell_type": "code",
   "execution_count": 44,
   "metadata": {},
   "outputs": [],
   "source": [
    "kfold = KFold(n_splits=5, random_state=0, shuffle = True)\n"
   ]
  },
  {
   "cell_type": "code",
   "execution_count": 45,
   "metadata": {},
   "outputs": [
    {
     "name": "stdout",
     "output_type": "stream",
     "text": [
      "              precision    recall  f1-score   support\n",
      "\n",
      "         ham       0.93      1.00      0.96      1485\n",
      "       phish       1.00      0.92      0.96      1509\n",
      "\n",
      "    accuracy                           0.96      2994\n",
      "   macro avg       0.96      0.96      0.96      2994\n",
      "weighted avg       0.96      0.96      0.96      2994\n",
      "\n"
     ]
    }
   ],
   "source": [
    "print (skmetrics.classification_report(df_emails_test.label, test_predicted))\n"
   ]
  },
  {
   "cell_type": "code",
   "execution_count": 46,
   "metadata": {},
   "outputs": [
    {
     "name": "stdout",
     "output_type": "stream",
     "text": [
      "KFold(n_splits=5, random_state=0, shuffle=True)\n"
     ]
    }
   ],
   "source": [
    "print(kfold)\n"
   ]
  },
  {
   "cell_type": "code",
   "execution_count": 47,
   "metadata": {},
   "outputs": [],
   "source": [
    "nb_scores = cross_val_predict(pipeline, df_emails.content, df_emails.label, cv=kfold)\n"
   ]
  },
  {
   "cell_type": "code",
   "execution_count": 48,
   "metadata": {},
   "outputs": [
    {
     "name": "stdout",
     "output_type": "stream",
     "text": [
      "              precision    recall  f1-score   support\n",
      "\n",
      "         ham       0.94      1.00      0.97      5000\n",
      "       phish       1.00      0.94      0.97      4980\n",
      "\n",
      "    accuracy                           0.97      9980\n",
      "   macro avg       0.97      0.97      0.97      9980\n",
      "weighted avg       0.97      0.97      0.97      9980\n",
      "\n"
     ]
    }
   ],
   "source": [
    "#cross val without netcraft\n",
    "print(skmetrics.classification_report(df_emails.label, nb_scores))"
   ]
  },
  {
   "cell_type": "code",
   "execution_count": null,
   "metadata": {},
   "outputs": [
    {
     "name": "stdout",
     "output_type": "stream",
     "text": [
      "fold 0\n",
      "              precision    recall  f1-score   support\n",
      "\n",
      "         ham       0.94      1.00      0.97       996\n",
      "       phish       1.00      0.93      0.96      1000\n",
      "\n",
      "    accuracy                           0.96      1996\n",
      "   macro avg       0.97      0.96      0.96      1996\n",
      "weighted avg       0.97      0.96      0.96      1996\n",
      "\n",
      "fold 1\n",
      "              precision    recall  f1-score   support\n",
      "\n",
      "         ham       0.96      1.00      0.98      1010\n",
      "       phish       1.00      0.95      0.97       986\n",
      "\n",
      "    accuracy                           0.97      1996\n",
      "   macro avg       0.98      0.97      0.97      1996\n",
      "weighted avg       0.98      0.97      0.97      1996\n",
      "\n",
      "fold 2\n",
      "              precision    recall  f1-score   support\n",
      "\n",
      "         ham       0.95      1.00      0.97       994\n",
      "       phish       1.00      0.94      0.97      1002\n",
      "\n",
      "    accuracy                           0.97      1996\n",
      "   macro avg       0.97      0.97      0.97      1996\n",
      "weighted avg       0.97      0.97      0.97      1996\n",
      "\n",
      "fold 3\n",
      "              precision    recall  f1-score   support\n",
      "\n",
      "         ham       0.94      1.00      0.97      1001\n",
      "       phish       1.00      0.93      0.96       995\n",
      "\n",
      "    accuracy                           0.96      1996\n",
      "   macro avg       0.97      0.96      0.96      1996\n",
      "weighted avg       0.97      0.96      0.96      1996\n",
      "\n"
     ]
    }
   ],
   "source": [
    "#MNB + Netcraft\n",
    "netcraft_cv(df_emails, pipeline)"
   ]
  },
  {
   "cell_type": "code",
   "execution_count": null,
   "metadata": {},
   "outputs": [],
   "source": [
    "#Attempting to label spam folder as phishing\n",
    "titles = []\n",
    "contents = []\n",
    "labels = []\n",
    "\n",
    "for f in os.listdir(os.path.join(r\"C:\\Users\\Sreelekshmi\\Downloads\\Phishing-Detection-master\\Phishing-Detection-master\\enron6\",'spam')):\n",
    "        with open(os.path.join(r\"C:\\Users\\Sreelekshmi\\Downloads\\Phishing-Detection-master\\Phishing-Detection-master\\enron6\", 'spam', f), 'r') as reader:\n",
    "            try:\n",
    "                c = reader.read()\n",
    "            except:\n",
    "                continue\n",
    "            contents.append(c)\n",
    "            titles.append(f)\n",
    "            labels.append('ham')\n",
    "\n",
    "df_spam = pd.DataFrame({'title': titles, 'content': contents, 'label': 'spam'},\n",
    "                    columns = ['label', 'title', 'content'])"
   ]
  },
  {
   "cell_type": "code",
   "execution_count": null,
   "metadata": {},
   "outputs": [],
   "source": [
    "predictions = pipeline.predict(df_spam.content)\n"
   ]
  },
  {
   "cell_type": "code",
   "execution_count": 65,
   "metadata": {},
   "outputs": [],
   "source": [
    "df_spam['predicted_label'] = predictions\n"
   ]
  },
  {
   "cell_type": "code",
   "execution_count": 66,
   "metadata": {},
   "outputs": [
    {
     "data": {
      "text/html": [
       "<div>\n",
       "<style scoped>\n",
       "    .dataframe tbody tr th:only-of-type {\n",
       "        vertical-align: middle;\n",
       "    }\n",
       "\n",
       "    .dataframe tbody tr th {\n",
       "        vertical-align: top;\n",
       "    }\n",
       "\n",
       "    .dataframe thead th {\n",
       "        text-align: right;\n",
       "    }\n",
       "</style>\n",
       "<table border=\"1\" class=\"dataframe\">\n",
       "  <thead>\n",
       "    <tr style=\"text-align: right;\">\n",
       "      <th></th>\n",
       "      <th>label</th>\n",
       "      <th>title</th>\n",
       "      <th>content</th>\n",
       "      <th>predicted_label</th>\n",
       "    </tr>\n",
       "  </thead>\n",
       "  <tbody>\n",
       "    <tr>\n",
       "      <td>0</td>\n",
       "      <td>spam</td>\n",
       "      <td>0002.2004-08-01.BG.spam.txt</td>\n",
       "      <td>Subject: advs\\ngreetings ,\\ni am benedicta lin...</td>\n",
       "      <td>phish</td>\n",
       "    </tr>\n",
       "    <tr>\n",
       "      <td>1</td>\n",
       "      <td>spam</td>\n",
       "      <td>0003.2004-08-01.BG.spam.txt</td>\n",
       "      <td>Subject: whats new in summer ? bawled\\ncarolyn...</td>\n",
       "      <td>ham</td>\n",
       "    </tr>\n",
       "    <tr>\n",
       "      <td>2</td>\n",
       "      <td>spam</td>\n",
       "      <td>0004.2004-08-01.BG.spam.txt</td>\n",
       "      <td>Subject: \\nh $ ello\\ndea 54 r home owner ,\\nwe...</td>\n",
       "      <td>ham</td>\n",
       "    </tr>\n",
       "    <tr>\n",
       "      <td>3</td>\n",
       "      <td>spam</td>\n",
       "      <td>0006.2004-08-01.BG.spam.txt</td>\n",
       "      <td>Subject: : ) ) you can not save the world by q...</td>\n",
       "      <td>ham</td>\n",
       "    </tr>\n",
       "    <tr>\n",
       "      <td>4</td>\n",
       "      <td>spam</td>\n",
       "      <td>0007.2004-08-01.BG.spam.txt</td>\n",
       "      <td>Subject: need software ? click here .\\ntop qua...</td>\n",
       "      <td>ham</td>\n",
       "    </tr>\n",
       "  </tbody>\n",
       "</table>\n",
       "</div>"
      ],
      "text/plain": [
       "  label                        title  \\\n",
       "0  spam  0002.2004-08-01.BG.spam.txt   \n",
       "1  spam  0003.2004-08-01.BG.spam.txt   \n",
       "2  spam  0004.2004-08-01.BG.spam.txt   \n",
       "3  spam  0006.2004-08-01.BG.spam.txt   \n",
       "4  spam  0007.2004-08-01.BG.spam.txt   \n",
       "\n",
       "                                             content predicted_label  \n",
       "0  Subject: advs\\ngreetings ,\\ni am benedicta lin...           phish  \n",
       "1  Subject: whats new in summer ? bawled\\ncarolyn...             ham  \n",
       "2  Subject: \\nh $ ello\\ndea 54 r home owner ,\\nwe...             ham  \n",
       "3  Subject: : ) ) you can not save the world by q...             ham  \n",
       "4  Subject: need software ? click here .\\ntop qua...             ham  "
      ]
     },
     "execution_count": 66,
     "metadata": {},
     "output_type": "execute_result"
    }
   ],
   "source": [
    "df_spam.head()\n"
   ]
  },
  {
   "cell_type": "code",
   "execution_count": null,
   "metadata": {},
   "outputs": [],
   "source": []
  }
 ],
 "metadata": {
  "kernelspec": {
   "display_name": "Python 3",
   "language": "python",
   "name": "python3"
  },
  "language_info": {
   "codemirror_mode": {
    "name": "ipython",
    "version": 3
   },
   "file_extension": ".py",
   "mimetype": "text/x-python",
   "name": "python",
   "nbconvert_exporter": "python",
   "pygments_lexer": "ipython3",
   "version": "3.7.4"
  }
 },
 "nbformat": 4,
 "nbformat_minor": 2
}
